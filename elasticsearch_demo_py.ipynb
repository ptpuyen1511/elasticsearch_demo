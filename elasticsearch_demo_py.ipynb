{
 "cells": [
  {
   "cell_type": "markdown",
   "metadata": {
    "colab_type": "text",
    "id": "yv7xOPts-zG7"
   },
   "source": [
    "# Summary\n",
    "This notebook performs a demo task with the Elasticsearch client in the Python.\n",
    "\n",
    "\n",
    "Include:\n",
    "- Step 1: Collect data related to tax codes from the page: https://hosocongty.vn/\n",
    "\n",
    "- Step 2: Store data with Elasticsearch\n",
    "\n",
    "- Step 3: Query information on Elasticsearch"
   ]
  },
  {
   "cell_type": "markdown",
   "metadata": {
    "colab_type": "text",
    "id": "gRbLPm0u8eGg"
   },
   "source": [
    "# Install necessary package"
   ]
  },
  {
   "cell_type": "code",
   "execution_count": 1,
   "metadata": {
    "colab": {},
    "colab_type": "code",
    "id": "y09cQF8k9-OY"
   },
   "outputs": [
    {
     "name": "stdout",
     "output_type": "stream",
     "text": [
      "Collecting elasticsearch\n",
      "  Downloading elasticsearch-7.6.0-py2.py3-none-any.whl (88 kB)\n",
      "Requirement already satisfied: urllib3>=1.21.1 in c:\\users\\stduser\\anaconda3\\lib\\site-packages (from elasticsearch) (1.25.8)\n",
      "Installing collected packages: elasticsearch\n",
      "Successfully installed elasticsearch-7.6.0\n"
     ]
    }
   ],
   "source": [
    "!pip install elasticsearch"
   ]
  },
  {
   "cell_type": "markdown",
   "metadata": {},
   "source": [
    "# Collect data"
   ]
  },
  {
   "cell_type": "code",
   "execution_count": 4,
   "metadata": {},
   "outputs": [],
   "source": [
    "import pandas as pd\n",
    "import requests\n",
    "import re\n",
    "import html\n",
    "import json\n",
    "\n",
    "from bs4 import BeautifulSoup\n",
    "\n",
    "def get_link_content(url):\n",
    "    '''\n",
    "    This function is used to get the information of 10 companies (if there is no error) listed in the url\n",
    "    The information collected is:\n",
    "        - Name (Tên công ty)\n",
    "        - Tax code (Mã số thuế)\n",
    "        - Address (Địa chỉ)\n",
    "        \n",
    "    ----------\n",
    "    Input:\n",
    "        - url: <string>\n",
    "            url of page that want to get data\n",
    "            \n",
    "    ----------\n",
    "    Return:\n",
    "        <list[str]>\n",
    "            list of 10 company information has been called json.dumps\n",
    "    '''\n",
    "    \n",
    "    result = []\n",
    "\n",
    "    html_page = requests.get(url).content\n",
    "    soup = BeautifulSoup(html_page, 'html.parser')\n",
    "    infors = soup.find('ul', {'class': 'hsdn'})\n",
    "\n",
    "    list_company = infors.findAll('li')\n",
    "\n",
    "    for c in list_company:\n",
    "        try:\n",
    "            name = c.find('h3').text\n",
    "\n",
    "            address_code = str(c.find('div').text).split('Mã số thuế: ')\n",
    "            address = address_code[0].replace('Địa chỉ: ', '')\n",
    "            code = address_code[-1]\n",
    "            temp = {'name': name, 'tax_code': code, 'address': address}\n",
    "\n",
    "            result.append(json.dumps(temp, ensure_ascii=False))\n",
    "        except:\n",
    "            continue\n",
    "\n",
    "    return result\n",
    "\n",
    "\n",
    "def get_data(num_pages=10):\n",
    "    '''\n",
    "    This function is used to get the information of companies from https://hosocongty.vn/\n",
    "        \n",
    "    ----------\n",
    "    Input:\n",
    "        - num_pages: <int> (default: 10)\n",
    "            number of pages that want to get data from web https://hosocongty.vn/\n",
    "            \n",
    "    ----------\n",
    "    Return:\n",
    "        <list[str]>\n",
    "            list of num_pages*10 company information has been called json.dumps\n",
    "    '''\n",
    "    \n",
    "    links = []\n",
    "    results = []\n",
    "\n",
    "    # Generate links\n",
    "    for i in range(1, num_pages + 1):\n",
    "        links.append('https://hosocongty.vn/page-' + str(i))\n",
    "    \n",
    "    # Browse each link to get information\n",
    "    for link in links:\n",
    "        results += get_link_content(link)\n",
    "        \n",
    "    return results"
   ]
  },
  {
   "cell_type": "code",
   "execution_count": 5,
   "metadata": {
    "collapsed": true,
    "jupyter": {
     "outputs_hidden": true
    }
   },
   "outputs": [
    {
     "data": {
      "text/plain": [
       "['{\"name\": \"CÔNG TY TNHH THƯƠNG MẠI XÂY DỰNG VÀ ĐẦU TƯ KHÔI NGUYÊN\", \"tax_code\": \"0109148251\", \"address\": \"25 TT1 Khu đô thị Mỹ Đình Sông Đà, Phường Mỹ Đình 1, Quận Nam Từ Liêm, Hà Nội\"}',\n",
       " '{\"name\": \"CÔNG TY CỔ PHẦN OFFICE360 - VĂN PHÒNG ĐẠI DIỆN TƯ VẤN THUẾ TẠI QUẢNG NINH\", \"tax_code\": \"2901635961-001\", \"address\": \"Tầng 4, Số 28, Phố Hải Phượng, Phường Hồng Hải, Thành phố Hạ Long, Quảng Ninh\"}',\n",
       " '{\"name\": \"CHI NHÁNH CÔNG TY TNHH MỘT THÀNH VIÊN ĐẦU TƯ XÂY DỰNG THƯƠNG MẠI QUỐC THẮNG TẠI QUẢNG NGÃI\", \"tax_code\": \"0400544974-002\", \"address\": \"Thôn Vạn Lý, Xã Phổ Phong, Thị xã Đức Phổ, Quảng Ngãi\"}',\n",
       " '{\"name\": \"CÔNG TY TNHH XUẤT NHẬP KHẨU VÀ PHÂN PHỐI ĐÔNG PHƯƠNG VIỆT NAM - CỬA HÀNG AKEMI U(DDKD)\", \"tax_code\": \"0305432170-004\", \"address\": \"Lô B2-R3-25-26 tầng B2 TTTM Vincom, Tòa nhà Vincom Mega Mall, Phường Thượng Đình, Quận Thanh Xuân, Hà Nội\"}',\n",
       " '{\"name\": \"CHI NHÁNH MIỀN TRUNG - CÔNG TY TNHH KIỂM TOÁN HDT VIỆT NAM\", \"tax_code\": \"0102936447-004\", \"address\": \"88 đường Kim Đồng, Phường Hưng Bình, Thành phố Vinh, Nghệ An\"}',\n",
       " '{\"name\": \"VĂN PHÒNG ĐẠI DIỆN CÔNG TY CỔ PHẦN GOSEE VIỆT NAM TẠI NGHỆ AN\", \"tax_code\": \"0108945913-001\", \"address\": \"Xóm Vạn Thọ, Xã Diễn Mỹ, Huyện Diễn Châu, Nghệ An\"}',\n",
       " '{\"name\": \"CHI NHÁNH CÔNG TY TNHH HUỲNH QUỐC DỰ- CHI NHÁNH ẤP SƠN LỢI XÃ AN NINH TÂY\", \"tax_code\": \"1101894404-007\", \"address\": \"số 05, ấp Sơn Lợi, Xã An Ninh Tây, Huyện Đức Hoà, Long An\"}',\n",
       " '{\"name\": \"CÔNG TY CỔ PHẦN CÔNG NGHỆ CAO ĐIỆN HÓA VIỆT NAM - CHI NHÁNH LONG AN\", \"tax_code\": \"0109103204-001\", \"address\": \"Đường số 1, Cụm Công Nghiệp Ấp Bình Điền 2, Xã Đức Hòa Hạ, Huyện Đức Hoà, Long An\"}',\n",
       " '{\"name\": \"CHI NHÁNH CÔNG TY CỔ PHẦN HỢP TÁC ĐẦU TƯ VÀ PHÁT TRIỂN NÔNG NGHIỆP VIỆT NAM\", \"tax_code\": \"0314259109-002\", \"address\": \"Lô A102, Đường Số 1, KCN Thái Hòa, Ấp Tân Hòa, Xã Đức Lập Hạ, Huyện Đức Hoà, Long An\"}',\n",
       " '{\"name\": \"XÍ NGHIỆP VẬT LIỆU XÂY DỰNG LICOGI 16 - CHI NHÁNH CÔNG TY CỔ PHẦN LICOGI 16\", \"tax_code\": \"0302310209-013\", \"address\": \"Thôn Na Ví, Xã Hồ Sơn, Huyện Hữu Lũng, Lạng Sơn\"}',\n",
       " '{\"name\": \"CHI NHÁNH CÔNG TY TNHH BẢO THỊNH\", \"tax_code\": \"5800424039-006\", \"address\": \"Số 45 Tự Phước, Phường 11, Thành phố Đà Lạt, Lâm Đồng\"}',\n",
       " '{\"name\": \"CHI NHÁNH KIÊN GIANG - CÔNG TY TNHH DỊCH VỤ THỰC PHẨM VÀ GIẢI KHÁT VIỆT NAM\", \"tax_code\": \"0310362754-009\", \"address\": \"FB-21, Khu Vui Chơi Giải Trí Vinpearlland, Khu Bãi Dài, Xã Gành Dầu, Huyện Phú Quốc, Kiên Giang\"}',\n",
       " '{\"name\": \"CÔNG TY TNHH XÂY DỰNG THƯƠNG MẠI A&C\", \"tax_code\": \"1702142487\", \"address\": \"Lô 9, căn 1, đường Trần Đại Nghĩa, Phường An Hòa, Thành phố Rạch Giá, Kiên Giang\"}',\n",
       " '{\"name\": \"CÔNG TY TNHH PHÁT TRIỂN PNT VIỆT NAM - VĂN PHÒNG ĐẠI DIỆN TẠI THÀNH PHỐ NHA TRANG\", \"tax_code\": \"0106103238-004\", \"address\": \"Số 190/14 đường Lê Hồng Phong, Phường Phước Hải, Thành phố Nha Trang, Khánh Hòa\"}',\n",
       " '{\"name\": \"CHI NHÁNH CÔNG TY TNHH THIẾT KẾ THI CÔNG NỘI THẤT TÂN HOÀNG GIA\", \"tax_code\": \"0314496011-001\", \"address\": \"Lô STH51.51 Đường số 4, Khu đô thị Hà Quang 2, Phường Phước Hải, Thành phố Nha Trang, Khánh Hòa\"}',\n",
       " '{\"name\": \"CHI NHÁNH CÔNG TY TNHH ĐẦU TƯ XUẤT NHẬP KHẨU TIẾN HƯNG\", \"tax_code\": \"0313603856-001\", \"address\": \"39 Hoàng Diệu, Phường 10, Quận Phú Nhuận, Hồ Chí Minh\"}',\n",
       " '{\"name\": \"CHI NHÁNH CÔNG TY TNHH DINHGIA - CỬA HÀNG VLXD & TRANG TRÍ NỘI THẤT DINH GIA 2\", \"tax_code\": \"0313587770-001\", \"address\": \"D14/5A Nguyễn Cữu Phú, Ấp 4, Xã Tân Kiên, Huyện Bình Chánh, Hồ Chí Minh\"}',\n",
       " '{\"name\": \"CÔNG TY CỔ PHẦN CÔNG NGHỆ SINH HỌC VIỆT HÀN - CHI NHÁNH XƯỞNG SẢN XUẤT\", \"tax_code\": \"0315133701-001\", \"address\": \"364 Võ Văn Bích, Ấp 4B, Xã Bình Mỹ, Huyện Củ Chi, Hồ Chí Minh\"}',\n",
       " '{\"name\": \"CÔNG TY TNHH SẢN XUẤT THƯƠNG MẠI XUẤT NHẬP KHẨU NGUYÊN HƯNG - CHI NHÁNH TẠI THÀNH PHỐ HỒ CHÍ MINH\", \"tax_code\": \"1101833948-001\", \"address\": \"1435 Tinh lộ 10, Phường Tân Tạo A, Quận Bình Tân, Hồ Chí Minh\"}',\n",
       " '{\"name\": \"VĂN PHÒNG ĐẠI DIỆN CÔNG TY CỔ PHẦN DU LỊCH MALBLUE TẠI TP. HỒ CHÍ MINH\", \"tax_code\": \"0314106462-002\", \"address\": \"132 Cao Đức Lân, Phường An Phú, Quận 2, Hồ Chí Minh\"}']"
      ]
     },
     "execution_count": 5,
     "metadata": {},
     "output_type": "execute_result"
    }
   ],
   "source": [
    "get_data(1)"
   ]
  },
  {
   "cell_type": "markdown",
   "metadata": {},
   "source": [
    "# Store data with Elasticsearch"
   ]
  },
  {
   "cell_type": "code",
   "execution_count": 10,
   "metadata": {},
   "outputs": [],
   "source": [
    "from elasticsearch import Elasticsearch"
   ]
  },
  {
   "cell_type": "markdown",
   "metadata": {},
   "source": [
    "## Create index"
   ]
  },
  {
   "cell_type": "code",
   "execution_count": 11,
   "metadata": {},
   "outputs": [],
   "source": [
    "def create_index(es_object, index_name):\n",
    "    '''\n",
    "    This function is used to create an index in Elasticsearch\n",
    "        \n",
    "    ----------\n",
    "    Input:\n",
    "        - es_object: <elasticsearch.client.Elasticsearch>\n",
    "            Elasticsearch object\n",
    "        - index_name: <str>\n",
    "            name of index that want to create    \n",
    "        \n",
    "    ----------\n",
    "    Return:\n",
    "        <bool>\n",
    "            True: if create successfully\n",
    "            False: whereas  \n",
    "    '''\n",
    "    \n",
    "    created = False\n",
    "    \n",
    "    # Index settings\n",
    "    settings = {\n",
    "        \"settings\": {\n",
    "            \"number_of_shards\": 2,\n",
    "            \"number_of_replicas\": 1\n",
    "        },\n",
    "        \"mappings\": {\n",
    "            \"company_info\": {\n",
    "                \"dynamic\": \"strict\",\n",
    "                \"properties\": {\n",
    "                    \"name\": {\n",
    "                        \"type\": \"text\"\n",
    "                    },\n",
    "                    \"tax_code\": {\n",
    "                        \"type\": \"text\"\n",
    "                    },\n",
    "                    \"address\": {\n",
    "                        \"type\": \"text\"\n",
    "                    }\n",
    "                }  \n",
    "            }\n",
    "        }\n",
    "    }\n",
    "\n",
    "    try:\n",
    "        if not es_object.indices.exists(index_name):\n",
    "            # Ignore 400 means to ignore \"Index Already Exist\" error.\n",
    "            es_object.indices.create(index=index_name, ignore=400, body=settings)\n",
    "            \n",
    "            print('Created Index')\n",
    "            \n",
    "        created = True\n",
    "        \n",
    "    except Exception as ex:\n",
    "        print(str(ex))\n",
    "        \n",
    "    finally:\n",
    "        return created"
   ]
  },
  {
   "cell_type": "markdown",
   "metadata": {},
   "source": [
    "## Store record"
   ]
  },
  {
   "cell_type": "code",
   "execution_count": null,
   "metadata": {},
   "outputs": [],
   "source": [
    "def store_record(es_object, index_name, record):\n",
    "    is_stored = True\n",
    "    try:\n",
    "        outcome = elastic_object.index(index=index_name, doc_type='salads', body=record)\n",
    "        print(outcome)\n",
    "    except Exception as ex:\n",
    "        print('Error in indexing data')\n",
    "        print(str(ex))\n",
    "        is_stored = False\n",
    "    finally:\n",
    "        return is_stored"
   ]
  }
 ],
 "metadata": {
  "colab": {
   "name": "elasticsearch_demo_py.ipynb",
   "provenance": []
  },
  "kernelspec": {
   "display_name": "Python 3",
   "language": "python",
   "name": "python3"
  },
  "language_info": {
   "codemirror_mode": {
    "name": "ipython",
    "version": 3
   },
   "file_extension": ".py",
   "mimetype": "text/x-python",
   "name": "python",
   "nbconvert_exporter": "python",
   "pygments_lexer": "ipython3",
   "version": "3.6.8"
  },
  "toc-autonumbering": true
 },
 "nbformat": 4,
 "nbformat_minor": 4
}
